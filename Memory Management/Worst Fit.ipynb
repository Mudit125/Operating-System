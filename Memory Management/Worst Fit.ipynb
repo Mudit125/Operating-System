{
 "cells": [
  {
   "cell_type": "code",
   "execution_count": null,
   "metadata": {},
   "outputs": [],
   "source": [
    "def worstFit(blockSize, m, processSize, n): \n",
    "    allocation = [-1] * n \n",
    "    for i in range(n): \n",
    "        wstIdx = -1\n",
    "        for j in range(m): \n",
    "            if blockSize[j] >= processSize[i]: \n",
    "                if wstIdx == -1:  \n",
    "                    wstIdx = j  \n",
    "                elif blockSize[wstIdx] < blockSize[j]:  \n",
    "                    wstIdx = j  \n",
    "        if wstIdx != -1: \n",
    "            allocation[i] = wstIdx \n",
    "            blockSize[wstIdx] -= processSize[i]  \n",
    "    print(\"Process No. Process Size Block no.\") \n",
    "    for i in range(n): \n",
    "        print(i + 1, \"         \",  \n",
    "              processSize[i], end = \"     \")  \n",
    "        if allocation[i] != -1: \n",
    "            print(allocation[i] + 1)  \n",
    "        else: \n",
    "            print(\"Not Allocated\")\n",
    "blockSize = []  \n",
    "processSize = [] \n",
    "n = int(input(\"Enter number of process : \")) \n",
    "for i in range(0, n): \n",
    "    elem = int(input(\"Enter the Process Size:\")) \n",
    "    processSize.append(elem)\n",
    "m = int(input(\"Enter number of blocks : \"))\n",
    "for i in range(0, m): \n",
    "    ele = int(input(\"Enter the Block Size:\")) \n",
    "    blockSize.append(ele)\n",
    "bestFit(blockSize, m, processSize, n)\n"
   ]
  }
 ],
 "metadata": {
  "kernelspec": {
   "display_name": "Python 3",
   "language": "python",
   "name": "python3"
  },
  "language_info": {
   "codemirror_mode": {
    "name": "ipython",
    "version": 3
   },
   "file_extension": ".py",
   "mimetype": "text/x-python",
   "name": "python",
   "nbconvert_exporter": "python",
   "pygments_lexer": "ipython3",
   "version": "3.8.3"
  }
 },
 "nbformat": 4,
 "nbformat_minor": 4
}

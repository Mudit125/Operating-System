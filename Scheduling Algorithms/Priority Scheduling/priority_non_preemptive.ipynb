{
 "cells": [
  {
   "cell_type": "code",
   "execution_count": 1,
   "metadata": {},
   "outputs": [
    {
     "name": "stdout",
     "output_type": "stream",
     "text": [
      "Enter the number of processess: \n",
      "3\n",
      "\n",
      "Enter the burst time of the processes: \n",
      "\n",
      "9 5 11\n",
      "\n",
      "Enter the priority of the processes: \n",
      "\n",
      "3 5 1\n",
      "\n",
      "\n",
      "Process\t  Burst Time\t  Waiting Time\t  Turn Around Time\n",
      "3\t\t11\t\t0\t\t11\n",
      "\n",
      "\n",
      "1\t\t9\t\t11\t\t20\n",
      "\n",
      "\n",
      "2\t\t5\t\t20\t\t25\n",
      "\n",
      "\n",
      "Average Waiting time is: 18.666666666666668\n",
      "Average Turn Around Time is: 56\n"
     ]
    }
   ],
   "source": [
    "print(\"Enter the number of processess: \")\n",
    "n=int(input())\n",
    "processes=[]\n",
    "for i in range(0,n):\n",
    "    processes.insert(i,i+1)\n",
    "#Input Burst time \n",
    "print(\"\\nEnter the burst time of the processes: \\n\")\n",
    "bt=list(map(int, input().split()))\n",
    "#Input Priority\n",
    "print(\"\\nEnter the priority of the processes: \\n\")\n",
    "priority=list(map(int, input().split()))\n",
    "tat=[]\n",
    "wt=[]\n",
    "#Sorting on priority\n",
    "for i in range(0,len(priority)-1):\n",
    "    for j in range(0,len(priority)-i-1):\n",
    "        if(priority[j]>priority[j+1]):\n",
    "            temp=priority[j]\n",
    "            priority[j]=priority[j+1]\n",
    "            priority[j+1]=temp\n",
    "            temp=bt[j]\n",
    "            bt[j]=bt[j+1]\n",
    "            bt[j+1]=temp\n",
    "            temp=processes[j]\n",
    "            processes[j]=processes[j+1]\n",
    "            processes[j+1]=temp\n",
    "wt.insert(0,0)\n",
    "tat.insert(0,bt[0])\n",
    "# waiting time and Turn Around Time \n",
    "for i in range(1,len(processes)):\n",
    "    wt.insert(i,wt[i-1]+bt[i-1])\n",
    "    tat.insert(i,wt[i]+bt[i])\n",
    "# average waiting time and average turn around time\n",
    "avgtat=0\n",
    "avgwt=0\n",
    "for i in range(0,len(processes)):\n",
    "    avgwt=avgwt+wt[i]\n",
    "    avgtat=avgtat+tat[i]\n",
    "avgwt=float(avgwt)/n\n",
    "avgwt=float(avgtat)/n\n",
    "print(\"\\n\")\n",
    "print(\"Process\\t  Burst Time\\t  Waiting Time\\t  Turn Around Time\")\n",
    "for i in range(0,n):\n",
    "    print(str(processes[i])+\"\\t\\t\"+str(bt[i])+\"\\t\\t\"+str(wt[i])+\"\\t\\t\"+str(tat[i]))\n",
    "    print(\"\\n\")\n",
    "print(\"Average Waiting time is: \"+str(avgwt))\n",
    "print(\"Average Turn Around Time is: \"+str(avgtat))\n"
   ]
  }
 ],
 "metadata": {
  "kernelspec": {
   "display_name": "Python 3",
   "language": "python",
   "name": "python3"
  },
  "language_info": {
   "codemirror_mode": {
    "name": "ipython",
    "version": 3
   },
   "file_extension": ".py",
   "mimetype": "text/x-python",
   "name": "python",
   "nbconvert_exporter": "python",
   "pygments_lexer": "ipython3",
   "version": "3.8.3"
  }
 },
 "nbformat": 4,
 "nbformat_minor": 4
}
